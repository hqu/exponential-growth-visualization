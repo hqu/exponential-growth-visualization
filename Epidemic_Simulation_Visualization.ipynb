{
  "nbformat": 4,
  "nbformat_minor": 0,
  "metadata": {
    "colab": {
      "name": "Epidemic Simulation Visualization.ipynb",
      "provenance": [],
      "collapsed_sections": [],
      "include_colab_link": true
    },
    "kernelspec": {
      "display_name": "Python 3 (ipykernel)",
      "language": "python",
      "name": "python3"
    },
    "language_info": {
      "codemirror_mode": {
        "name": "ipython",
        "version": 3
      },
      "file_extension": ".py",
      "mimetype": "text/x-python",
      "name": "python",
      "nbconvert_exporter": "python",
      "pygments_lexer": "ipython3",
      "version": "3.8.8"
    }
  },
  "cells": [
    {
      "cell_type": "markdown",
      "metadata": {
        "id": "view-in-github",
        "colab_type": "text"
      },
      "source": [
        "<a href=\"https://colab.research.google.com/github/hqu/exponential-growth-visualization/blob/main/Epidemic_Simulation_Visualization.ipynb\" target=\"_parent\"><img src=\"https://colab.research.google.com/assets/colab-badge.svg\" alt=\"Open In Colab\"/></a>"
      ]
    },
    {
      "cell_type": "code",
      "metadata": {
        "id": "3KkYhJ05h2lG"
      },
      "source": [
        "import networkx as nx\n",
        "import numpy as np\n",
        "from matplotlib import pyplot as plt\n",
        "import pandas as pd"
      ],
      "execution_count": null,
      "outputs": []
    },
    {
      "cell_type": "code",
      "metadata": {
        "id": "m0fCg32mNWUx"
      },
      "source": [
        "G = nx.Graph()\n",
        "G.clear()"
      ],
      "execution_count": null,
      "outputs": []
    },
    {
      "cell_type": "code",
      "metadata": {
        "id": "0dU_rJs9h2lJ"
      },
      "source": [
        "def get_infected_nodes():\n",
        "    infected_nodes = [x for x,y in G.nodes(data=True) if y['state']==1]\n",
        "    return infected_nodes\n",
        "def get_recovered_nodes():\n",
        "    recovered_nodes = [x for x,y in G.nodes(data=True) if y['state']==2]\n",
        "    return recovered_nodes\n",
        "def get_susceptible_nodes():\n",
        "    susceptible_nodes = [x for x,y in G.nodes(data=True) if y['state']==0]\n",
        "    return susceptible_nodes"
      ],
      "execution_count": null,
      "outputs": []
    },
    {
      "cell_type": "code",
      "metadata": {
        "id": "vT-Ak1Pvh2lJ"
      },
      "source": [
        "def print_stats():\n",
        "    r0 = round(((alpha*avg_deg)/mu), 2)\n",
        "    print(\"R0: \", r0)\n",
        "    print(\"Peak cases: \", max(epi_curve_data))\n",
        "    print(\"Peak time period: \", epi_curve_data.index(max(epi_curve_data)))\n",
        "    print(\"Total time periods: \", num_periods)        \n",
        "    print(\"Average contacts: \", round(avg_deg, 0))\n",
        "    print(\"Healthy left: \", len(get_susceptible_nodes()))"
      ],
      "execution_count": null,
      "outputs": []
    },
    {
      "cell_type": "code",
      "metadata": {
        "id": "G3cQyjpCh2lK",
        "scrolled": true
      },
      "source": [
        "def spread_virus():\n",
        "    infected_nodes_list = get_infected_nodes()\n",
        "    t = 0\n",
        "    infected_num_list = []\n",
        "    recovered_num_list = []\n",
        "    susceptible_num_list = []\n",
        "    while(len(infected_nodes_list)>0):\n",
        "        t=t+1\n",
        "        infected_nodes_list = get_infected_nodes()\n",
        "        num_infected = len(infected_nodes_list)\n",
        "        recovered_nodes_list = get_recovered_nodes()\n",
        "        num_recovered = len(recovered_nodes_list)\n",
        "        susceptible_nodes_list = get_susceptible_nodes()\n",
        "        num_susceptible = len(susceptible_nodes_list)        \n",
        "        infected_num_list.append(num_infected)\n",
        "        recovered_num_list.append(num_recovered)\n",
        "        susceptible_num_list.append(num_susceptible)\n",
        "        for i in infected_nodes_list:\n",
        "            neibs = list(G.neighbors(i))\n",
        "            #print(\"node: \"+str(i))\n",
        "            for j in neibs:\n",
        "                #print(j)\n",
        "                if (G.nodes[j]['state']==0):\n",
        "                    #print(j)\n",
        "                    if (np.random.random() <= alpha):\n",
        "                        #print(\"neib: \"+str(j))\n",
        "                        G.nodes[j]['state']=1\n",
        "                        #print(\"state: \"+ str(G.nodes[j]['state']))\n",
        "            if (np.random.random() <= mu):\n",
        "                G.nodes[i]['state']=2\n",
        "        infected_nodes_list = get_infected_nodes()\n",
        "        #print(infected_nodes_list)\n",
        "    return t, infected_num_list, recovered_num_list, susceptible_num_list"
      ],
      "execution_count": null,
      "outputs": []
    },
    {
      "cell_type": "code",
      "metadata": {
        "id": "yDo8fBOoh2lL"
      },
      "source": [
        "def init_conditions():\n",
        "    state = 0\n",
        "    nx.set_node_attributes(G, state, \"state\")\n",
        "    G.nodes[6]['state'] = 1\n",
        "    #G.nodes[3]['state'] = 1\n",
        "    #.nodes[2]['state'] = 1"
      ],
      "execution_count": null,
      "outputs": []
    },
    {
      "cell_type": "code",
      "metadata": {
        "id": "rGphr5MRfOfH"
      },
      "source": [
        "def generate_epidemic_graph():\n",
        "  fig = plt.figure(figsize=(15, 6))\n",
        "  ax = plt.axes()\n",
        "  #ax.set_yscale('log')\n",
        "  plt.stackplot(x,epi_curve_data, sup_curve_data, rec_curve_data, labels=['I','S','R'], colors=['BB641D','AAC6CA','BC8AC0'])\n",
        "  ax.set(xlabel='Time', ylabel='Number of Individuals')\n",
        "  if(Super_spreaders==False):\n",
        "    fig.suptitle('alpha = '+str(infectiousness) + ' mu = '+str(recovery_speed) + ' p (ER model) = '+str(connectivity) , fontsize=20)\n",
        "  else:\n",
        "    fig.suptitle('alpha = '+str(infectiousness) + ' mu = '+str(recovery_speed) + ' m (BA model) = '+str(super_spread_connectivity), fontsize=20)\n",
        "  plt.legend()"
      ],
      "execution_count": null,
      "outputs": []
    },
    {
      "cell_type": "code",
      "metadata": {
        "id": "x40DoBBCh2lM"
      },
      "source": [
        "G = nx.Graph()\n",
        "G.clear()\n",
        "n =30000\n",
        "p =.001\n",
        "#G = nx.erdos_renyi_graph(n, p)"
      ],
      "execution_count": null,
      "outputs": []
    },
    {
      "cell_type": "code",
      "metadata": {
        "id": "v5xRqokAh2lM"
      },
      "source": [
        "mu = .1\n",
        "alpha = .2"
      ],
      "execution_count": null,
      "outputs": []
    },
    {
      "cell_type": "code",
      "metadata": {
        "id": "gkqSeEkCdwB_"
      },
      "source": [
        "# Enter values for the follow parameters"
      ],
      "execution_count": null,
      "outputs": []
    },
    {
      "cell_type": "markdown",
      "metadata": {
        "id": "OVknnXoNh98i"
      },
      "source": [
        "# **Enter values for the follow parameters in the form below:**\n",
        "\n",
        "---\n",
        "\n"
      ]
    },
    {
      "cell_type": "code",
      "metadata": {
        "id": "jMUR_26lh2lR",
        "cellView": "form"
      },
      "source": [
        "infectiousness = 0.1 #@param {type:\"slider\", min:0.1, max:0.6, step:0.1}\n"
      ],
      "execution_count": null,
      "outputs": []
    },
    {
      "cell_type": "code",
      "metadata": {
        "id": "H41EB6nS_p1u",
        "cellView": "form"
      },
      "source": [
        "recovery_speed = 0.1 #@param {type:\"slider\", min:0.1, max:0.9, step:0.1}"
      ],
      "execution_count": null,
      "outputs": []
    },
    {
      "cell_type": "code",
      "metadata": {
        "cellView": "form",
        "id": "TEOKP2Sre5t8"
      },
      "source": [
        "Super_spreaders = True #@param [\"False\", \"True\"] {type:\"raw\"}"
      ],
      "execution_count": null,
      "outputs": []
    },
    {
      "cell_type": "code",
      "metadata": {
        "cellView": "form",
        "id": "szITozifec7d"
      },
      "source": [
        "connectivity = 0.002 #@param {type:\"slider\", min:0.001, max:0.009, step:0.001}"
      ],
      "execution_count": null,
      "outputs": []
    },
    {
      "cell_type": "code",
      "metadata": {
        "id": "9Yl9vCC7dCpp",
        "cellView": "form"
      },
      "source": [
        "super_spread_connectivity = 2 #@param {type:\"slider\", min:1, max:9, step:1}"
      ],
      "execution_count": null,
      "outputs": []
    },
    {
      "cell_type": "code",
      "metadata": {
        "colab": {
          "base_uri": "https://localhost:8080/",
          "height": 431
        },
        "id": "sQ3Cz5glh9qi",
        "outputId": "68b594b0-94de-4507-9bf4-a5a21c6b5717"
      },
      "source": [
        "  alpha = infectiousness\n",
        "  mu = recovery_speed\n",
        "  if(Super_spreaders==True):\n",
        "    m = super_spread_connectivity\n",
        "    G = nx.barabasi_albert_graph(n, m)\n",
        "  else:\n",
        "    if(p!=connectivity):\n",
        "      G = nx.erdos_renyi_graph(n, connectivity)\n",
        "      p = connectivity\n",
        "  init_conditions()\n",
        "  degrees = [val for (node, val) in G.degree()]\n",
        "  avg_deg = G.number_of_edges()/n\n",
        "  num_periods, epi_curve_data, rec_curve_data, sup_curve_data = spread_virus()\n",
        "  x = list(range(0, len(epi_curve_data)))\n",
        "generate_epidemic_graph()"
      ],
      "execution_count": null,
      "outputs": [
        {
          "output_type": "display_data",
          "data": {
            "image/png": "[encoded data removed]",
            "text/plain": [
              "<Figure size 1080x432 with 1 Axes>"
            ]
          },
          "metadata": {
            "needs_background": "light"
          }
        }
      ]
    },
    {
      "cell_type": "code",
      "metadata": {
        "colab": {
          "base_uri": "https://localhost:8080/"
        },
        "id": "GE4I539SNwnE",
        "outputId": "35679d21-04b7-4770-d7d4-810795804a22"
      },
      "source": [
        "print_stats()"
      ],
      "execution_count": null,
      "outputs": [
        {
          "output_type": "stream",
          "name": "stdout",
          "text": [
            "R0:  2.0\n",
            "Peak cases:  9486\n",
            "Peak time period:  21\n",
            "Total time periods:  145\n",
            "Average contacts:  2.0\n",
            "Healthy left:  6059\n"
          ]
        }
      ]
    },
    {
      "cell_type": "code",
      "metadata": {
        "id": "kYiZ1mC27saA",
        "outputId": "1405020a-5a64-4b82-ad56-4137f3447f9d",
        "colab": {
          "base_uri": "https://localhost:8080/"
        }
      },
      "source": [
        "epi_curve_data"
      ],
      "execution_count": null,
      "outputs": [
        {
          "output_type": "execute_result",
          "data": {
            "text/plain": [
              "[1,\n",
              " 1,\n",
              " 3,\n",
              " 6,\n",
              " 55,\n",
              " 118,\n",
              " 301,\n",
              " 577,\n",
              " 929,\n",
              " 1473,\n",
              " 2084,\n",
              " 2914,\n",
              " 3869,\n",
              " 4824,\n",
              " 5775,\n",
              " 6745,\n",
              " 7583,\n",
              " 8245,\n",
              " 8814,\n",
              " 9181,\n",
              " 9414,\n",
              " 9486,\n",
              " 9408,\n",
              " 9315,\n",
              " 9073,\n",
              " 8831,\n",
              " 8490,\n",
              " 8068,\n",
              " 7661,\n",
              " 7245,\n",
              " 6871,\n",
              " 6441,\n",
              " 6063,\n",
              " 5643,\n",
              " 5252,\n",
              " 4860,\n",
              " 4515,\n",
              " 4183,\n",
              " 3836,\n",
              " 3550,\n",
              " 3234,\n",
              " 2964,\n",
              " 2728,\n",
              " 2503,\n",
              " 2307,\n",
              " 2114,\n",
              " 1919,\n",
              " 1772,\n",
              " 1619,\n",
              " 1473,\n",
              " 1375,\n",
              " 1258,\n",
              " 1135,\n",
              " 1038,\n",
              " 939,\n",
              " 850,\n",
              " 775,\n",
              " 702,\n",
              " 635,\n",
              " 577,\n",
              " 539,\n",
              " 500,\n",
              " 454,\n",
              " 412,\n",
              " 382,\n",
              " 344,\n",
              " 309,\n",
              " 276,\n",
              " 246,\n",
              " 224,\n",
              " 210,\n",
              " 189,\n",
              " 175,\n",
              " 155,\n",
              " 138,\n",
              " 121,\n",
              " 110,\n",
              " 98,\n",
              " 82,\n",
              " 69,\n",
              " 60,\n",
              " 56,\n",
              " 51,\n",
              " 47,\n",
              " 44,\n",
              " 39,\n",
              " 35,\n",
              " 29,\n",
              " 27,\n",
              " 26,\n",
              " 24,\n",
              " 23,\n",
              " 20,\n",
              " 19,\n",
              " 16,\n",
              " 16,\n",
              " 15,\n",
              " 11,\n",
              " 11,\n",
              " 10,\n",
              " 9,\n",
              " 8,\n",
              " 6,\n",
              " 6,\n",
              " 5,\n",
              " 4,\n",
              " 4,\n",
              " 4,\n",
              " 3,\n",
              " 3,\n",
              " 3,\n",
              " 3,\n",
              " 3,\n",
              " 3,\n",
              " 3,\n",
              " 3,\n",
              " 3,\n",
              " 3,\n",
              " 3,\n",
              " 3,\n",
              " 3,\n",
              " 3,\n",
              " 2,\n",
              " 2,\n",
              " 2,\n",
              " 2,\n",
              " 2,\n",
              " 2,\n",
              " 2,\n",
              " 2,\n",
              " 1,\n",
              " 1,\n",
              " 1,\n",
              " 1,\n",
              " 1,\n",
              " 1,\n",
              " 1,\n",
              " 1,\n",
              " 1,\n",
              " 1,\n",
              " 1,\n",
              " 1,\n",
              " 1,\n",
              " 1,\n",
              " 1]"
            ]
          },
          "metadata": {},
          "execution_count": 20
        }
      ]
    },
    {
      "cell_type": "code",
      "metadata": {
        "id": "w7OrwN4wAXwX"
      },
      "source": [
        "#rec_curve_data"
      ],
      "execution_count": null,
      "outputs": []
    },
    {
      "cell_type": "code",
      "metadata": {
        "id": "YCJwu-lMNyLn"
      },
      "source": [
        "#sup_curve_data"
      ],
      "execution_count": null,
      "outputs": []
    },
    {
      "cell_type": "code",
      "metadata": {
        "id": "dNxGFAV3uNjX"
      },
      "source": [
        ""
      ],
      "execution_count": null,
      "outputs": []
    },
    {
      "cell_type": "code",
      "metadata": {
        "id": "ymGujQGhuBlc"
      },
      "source": [
        ""
      ],
      "execution_count": null,
      "outputs": []
    }
  ]
}